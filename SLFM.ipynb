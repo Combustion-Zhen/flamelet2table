{
 "cells": [
  {
   "cell_type": "markdown",
   "metadata": {},
   "source": [
    "# Steady Laminar Flamelet Model\n",
    "Flamelet assumptions:\n",
    "\\begin{equation}\n",
    "    \\phi = \\phi(Z; \\chi_\\mathrm{st})\n",
    "\\end{equation}\n",
    "To get the Favre-averaged or filtered value:\n",
    "\\begin{equation}\n",
    "    \\widetilde{\\phi} = \\iint \\phi(Z; \\chi_\\mathrm{st}) \\widetilde{f}(Z, \\chi_\\mathrm{st}) dZd\\chi_\\mathrm{st}\n",
    "\\end{equation}\n",
    "With the assumptions of independence between $Z$ and $\\chi_\\mathrm{st}$ distributions\n",
    "\\begin{equation}\n",
    "    \\widetilde{\\phi} = \\iint \\phi(Z; \\chi_\\mathrm{st}) \\widetilde{f}(Z)\\widetilde{f}(\\chi_\\mathrm{st}) dZd\\chi_\\mathrm{st}\n",
    "\\end{equation}\n",
    "Assuming $\\beta$ distribution for $Z$ and delta distribution for $\\chi_\\mathrm{st}$\n",
    "\\begin{equation}\n",
    "    \\widetilde{\\phi} (\\tilde{Z}, \\widetilde{Z^{''2}}; \\chi_\\mathrm{st}) = \\int \\phi(Z; \\chi_\\mathrm{st}) \\widetilde{f}(Z; \\tilde{Z}, \\widetilde{Z^{''2}}) dZ\n",
    "\\end{equation}"
   ]
  },
  {
   "cell_type": "code",
   "execution_count": 1,
   "metadata": {},
   "outputs": [],
   "source": [
    "import os\n",
    "import glob\n",
    "import numpy as np\n",
    "from beta_integration import beta_integration\n",
    "import matplotlib.pyplot as plt"
   ]
  },
  {
   "cell_type": "code",
   "execution_count": 2,
   "metadata": {},
   "outputs": [],
   "source": [
    "# get the flamelet solutions\n",
    "dir_name = 'flamelets'\n",
    "file_suffix = 'csv'\n",
    "\n",
    "chi = []\n",
    "os.chdir(dir_name)\n",
    "for filename in glob.glob('.'.join(['*', file_suffix])):\n",
    "    chi.append(float(filename[:-4]))\n",
    "os.chdir('..')\n",
    "chi.sort()\n",
    "chi = np.array(chi)\n",
    "n_chi = chi.size"
   ]
  },
  {
   "cell_type": "code",
   "execution_count": 3,
   "metadata": {},
   "outputs": [],
   "source": [
    "# take the flamelet solution with largest chi_st\n",
    "filename = '{0}/{1:g}.{2}'.format(dir_name, chi[-1], file_suffix)\n",
    "flamelet = np.genfromtxt(filename, names=True, delimiter=',')"
   ]
  },
  {
   "cell_type": "code",
   "execution_count": 4,
   "metadata": {},
   "outputs": [],
   "source": [
    "# the Z_average axis\n",
    "Z_average = flamelet['Z']\n",
    "n_Z_average = Z_average.size"
   ]
  },
  {
   "cell_type": "code",
   "execution_count": 5,
   "metadata": {},
   "outputs": [],
   "source": [
    "# the number of variables to be integrated\n",
    "variable_names = list(flamelet.dtype.names)\n",
    "variable_names.remove('Z')\n",
    "n_variable = len(variable_names)"
   ]
  },
  {
   "cell_type": "code",
   "execution_count": 6,
   "metadata": {},
   "outputs": [],
   "source": [
    "# the Z_variance axis\n",
    "n_Z_variance = 20\n",
    "Z_variance = np.linspace(0., 1., num=n_Z_variance)"
   ]
  },
  {
   "cell_type": "code",
   "execution_count": 7,
   "metadata": {},
   "outputs": [],
   "source": [
    "flamelet_table = np.empty((n_chi, n_Z_variance, n_Z_average, n_variable))"
   ]
  },
  {
   "cell_type": "code",
   "execution_count": null,
   "metadata": {},
   "outputs": [],
   "source": [
    "for l, chi_st in enumerate(chi):\n",
    "    filename = '{0}/{1:g}.{2}'.format(dir_name, chi_st, file_suffix)\n",
    "    flamelet = np.genfromtxt(filename, names=True, delimiter=',')    \n",
    "    for i, nvar in enumerate(Z_variance):\n",
    "        for j, ave in enumerate(Z_average):\n",
    "            for k, name in enumerate(variable_names):\n",
    "                flamelet_table[l,i,j,k] = beta_integration(flamelet[name], flamelet['Z'], ave, nvar)"
   ]
  }
 ],
 "metadata": {
  "kernelspec": {
   "display_name": "Python 3",
   "language": "python",
   "name": "python3"
  },
  "language_info": {
   "codemirror_mode": {
    "name": "ipython",
    "version": 3
   },
   "file_extension": ".py",
   "mimetype": "text/x-python",
   "name": "python",
   "nbconvert_exporter": "python",
   "pygments_lexer": "ipython3",
   "version": "3.6.6"
  }
 },
 "nbformat": 4,
 "nbformat_minor": 2
}
