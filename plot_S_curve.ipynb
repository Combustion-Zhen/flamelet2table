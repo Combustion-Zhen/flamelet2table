{
 "cells": [
  {
   "cell_type": "code",
   "execution_count": 1,
   "metadata": {},
   "outputs": [],
   "source": [
    "import os\n",
    "import glob\n",
    "import numpy as np\n",
    "import matplotlib.pyplot as plt\n",
    "from name_params import *\n",
    "from flamelet_integration import *"
   ]
  },
  {
   "cell_type": "code",
   "execution_count": 2,
   "metadata": {},
   "outputs": [],
   "source": [
    "dir_name = 'flamelets'\n",
    "file_suffix = 'csv'\n",
    "\n",
    "chi = np.zeros(1)\n",
    "T = np.zeros(1)\n",
    "\n",
    "os.chdir(dir_name)\n",
    "for filename in glob.glob('.'.join(['*', file_suffix])):\n",
    "    params = name2params( filename[:-1-len(file_suffix)] )\n",
    "    chi = np.append(chi, params['chi'])\n",
    "    T = np.append(T, params['T'])\n",
    "os.chdir('..')\n",
    "\n",
    "chi = np.delete( chi, 0, 0 )\n",
    "T = np.delete( T, 0, 0 )"
   ]
  },
  {
   "cell_type": "code",
   "execution_count": 3,
   "metadata": {},
   "outputs": [],
   "source": [
    "idx = np.argsort( T )[::-1]"
   ]
  },
  {
   "cell_type": "code",
   "execution_count": 4,
   "metadata": {},
   "outputs": [],
   "source": [
    "T = T[idx]\n",
    "chi = chi[idx]"
   ]
  },
  {
   "cell_type": "code",
   "execution_count": 5,
   "metadata": {},
   "outputs": [],
   "source": [
    "list_delete = []\n",
    "difTLimit = 10.\n",
    "latest_T = T[0] + difTLimit\n",
    "for i, v in enumerate(T):\n",
    "    if latest_T - v >= difTLimit :\n",
    "        latest_T = v\n",
    "    else:\n",
    "        list_delete.append(i)\n",
    "        \n",
    "for i in list_delete:\n",
    "    params = {'chi':chi[i],'T':T[i]}\n",
    "    filename = params2name(params)\n",
    "    os.remove('{}/{}.csv'.format(dir_name,filename))"
   ]
  },
  {
   "cell_type": "code",
   "execution_count": 6,
   "metadata": {},
   "outputs": [
    {
     "data": {
      "text/plain": [
       "array([2222., 2222., 2222., 2222., 2222., 2222., 2222., 2222., 2222.,\n",
       "       2222., 2222., 2222., 2222., 2222., 2222., 2222., 2222., 2222.,\n",
       "       2222., 2222., 2222., 2222., 2222., 2222., 2222., 2222., 2222.,\n",
       "       2221., 2221., 2221., 2221., 2220., 2219., 2218., 2216., 2214.,\n",
       "       2211., 2208., 2203., 2197., 2192., 2183., 2175., 2168., 2155.,\n",
       "       2145., 2132., 2120., 2108., 2092., 2079., 2066., 2032., 2019.,\n",
       "       2000., 1987., 1963., 1950., 1926., 1907., 1886., 1865., 1843.,\n",
       "       1820., 1798., 1766., 1743., 1722., 1699., 1676., 1653., 1629.,\n",
       "       1605., 1580., 1557., 1533., 1510., 1486., 1463., 1439., 1418.,\n",
       "       1395., 1376., 1356., 1339., 1322., 1303., 1283., 1261., 1238.,\n",
       "       1213., 1189., 1170., 1142., 1115., 1090., 1068., 1044., 1024.,\n",
       "       1002.,  973.,  952.,  931.,  905.,  887.,  855.,  836.,  812.,\n",
       "        796.,  794.,  737.,  721.,  680.,  666.,  621.,  619.,  564.,\n",
       "        547.,  517.,  506.,  487.,  480.,  461.,  455.,  441.,  437.,\n",
       "        433.,  430.,  428.,  424.,  422.,  419.,  418.,  416.,  414.,\n",
       "        412.,  410.,  409.,  407.,  405.,  404.,  402.,  401.,  400.,\n",
       "        398.,  397.,  396.,  394.,  393.,  392.,  391.,  390.,  389.,\n",
       "        388.,  387.,  386.,  385.,  383.,  382.,  382.,  381.,  380.,\n",
       "        379.,  378.,  377.,  376.,  375.,  374.,  373.,  372.,  372.,\n",
       "        371.,  370.,  368.,  368.,  367.,  366.,  365.,  364.,  363.,\n",
       "        363.,  362.,  361.,  360.,  359.,  359.,  358.,  357.,  357.,\n",
       "        356.,  355.,  354.,  354.,  353.,  352.,  352.,  351.,  350.,\n",
       "        349.,  349.,  348.,  348.,  347.,  346.,  345.,  345.,  344.,\n",
       "        344.,  343.,  342.,  342.,  341.,  340.,  340.,  339.,  339.,\n",
       "        338.,  338.,  337.,  337.,  337.,  337.,  337.,  336.,  336.,\n",
       "        335.,  334.,  334.,  333.,  333.,  333.,  333.,  332.,  332.,\n",
       "        331.,  331.,  330.,  330.,  329.,  328.,  328.,  328.,  327.,\n",
       "        326.,  326.,  326.,  325.,  325.,  324.,  324.,  323.,  323.,\n",
       "        321.,  320.,  319.,  318.,  318.,  317.,  316.,  316.,  315.,\n",
       "        314.,  314.,  313.,  312.,  312.,  312.,  311.,  310.,  309.,\n",
       "        308.,  307.,  307.,  305.,  304.,  304.,  303.,  303.,  303.,\n",
       "        303.,  302.,  302.,  301.,  301.,  299.,  299.,  298.,  298.,\n",
       "        298.,  295.,  295.])"
      ]
     },
     "execution_count": 6,
     "metadata": {},
     "output_type": "execute_result"
    }
   ],
   "source": [
    "T"
   ]
  },
  {
   "cell_type": "code",
   "execution_count": 7,
   "metadata": {},
   "outputs": [],
   "source": [
    "T = np.delete(T, list_delete)\n",
    "chi = np.delete(chi, list_delete)"
   ]
  },
  {
   "cell_type": "code",
   "execution_count": 8,
   "metadata": {},
   "outputs": [
    {
     "data": {
      "text/plain": [
       "[<matplotlib.lines.Line2D at 0x7f481f4464e0>]"
      ]
     },
     "execution_count": 8,
     "metadata": {},
     "output_type": "execute_result"
    },
    {
     "data": {
      "image/png": "[encoded data removed]",
      "text/plain": [
       "<Figure size 432x288 with 1 Axes>"
      ]
     },
     "metadata": {
      "needs_background": "light"
     },
     "output_type": "display_data"
    }
   ],
   "source": [
    "plt.semilogx(chi, T, '.')"
   ]
  },
  {
   "cell_type": "code",
   "execution_count": 9,
   "metadata": {},
   "outputs": [
    {
     "data": {
      "text/plain": [
       "array([2222., 2211., 2197., 2183., 2168., 2155., 2145., 2132., 2120.,\n",
       "       2108., 2092., 2079., 2066., 2032., 2019., 2000., 1987., 1963.,\n",
       "       1950., 1926., 1907., 1886., 1865., 1843., 1820., 1798., 1766.,\n",
       "       1743., 1722., 1699., 1676., 1653., 1629., 1605., 1580., 1557.,\n",
       "       1533., 1510., 1486., 1463., 1439., 1418., 1395., 1376., 1356.,\n",
       "       1339., 1322., 1303., 1283., 1261., 1238., 1213., 1189., 1170.,\n",
       "       1142., 1115., 1090., 1068., 1044., 1024., 1002.,  973.,  952.,\n",
       "        931.,  905.,  887.,  855.,  836.,  812.,  796.,  737.,  721.,\n",
       "        680.,  666.,  621.,  564.,  547.,  517.,  506.,  487.,  461.,\n",
       "        441.,  430.,  419.,  409.,  398.,  388.,  378.,  368.,  358.,\n",
       "        348.,  338.,  328.,  318.,  308.,  298.])"
      ]
     },
     "execution_count": 9,
     "metadata": {},
     "output_type": "execute_result"
    }
   ],
   "source": [
    "T"
   ]
  },
  {
   "cell_type": "code",
   "execution_count": 12,
   "metadata": {},
   "outputs": [
    {
     "data": {
      "text/plain": [
       "[<matplotlib.lines.Line2D at 0x7f481ef467f0>]"
      ]
     },
     "execution_count": 12,
     "metadata": {},
     "output_type": "execute_result"
    },
    {
     "data": {
      "image/png": "[encoded data removed]",
      "text/plain": [
       "<Figure size 432x288 with 1 Axes>"
      ]
     },
     "metadata": {
      "needs_background": "light"
     },
     "output_type": "display_data"
    }
   ],
   "source": [
    "plt.plot(chi,T,'.')"
   ]
  },
  {
   "cell_type": "code",
   "execution_count": 13,
   "metadata": {},
   "outputs": [],
   "source": [
    "idx_flamelet = 0\n",
    "params = {'chi':chi[idx_flamelet], 'T':T[idx_flamelet]}\n",
    "filename = params2name(params)\n",
    "flamelet = np.genfromtxt('{}/{}.csv'.format(dir_name,filename), names=True, delimiter=',')"
   ]
  },
  {
   "cell_type": "code",
   "execution_count": 15,
   "metadata": {},
   "outputs": [
    {
     "data": {
      "text/plain": [
       "[<matplotlib.lines.Line2D at 0x7f481f0ab0b8>]"
      ]
     },
     "execution_count": 15,
     "metadata": {},
     "output_type": "execute_result"
    },
    {
     "data": {
      "image/png": "[encoded data removed]",
      "text/plain": [
       "<Figure size 432x288 with 1 Axes>"
      ]
     },
     "metadata": {
      "needs_background": "light"
     },
     "output_type": "display_data"
    }
   ],
   "source": [
    "plt.plot(flamelet['Z'],flamelet['chi'])"
   ]
  }
 ],
 "metadata": {
  "kernelspec": {
   "display_name": "Python 3",
   "language": "python",
   "name": "python3"
  },
  "language_info": {
   "codemirror_mode": {
    "name": "ipython",
    "version": 3
   },
   "file_extension": ".py",
   "mimetype": "text/x-python",
   "name": "python",
   "nbconvert_exporter": "python",
   "pygments_lexer": "ipython3",
   "version": "3.6.6"
  }
 },
 "nbformat": 4,
 "nbformat_minor": 2
}
