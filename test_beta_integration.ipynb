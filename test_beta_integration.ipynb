{
 "cells": [
  {
   "cell_type": "markdown",
   "metadata": {},
   "source": [
    "# beta distribution\n",
    "The distribution is\n",
    "\\begin{equation}\n",
    "    \\begin{split}\n",
    "        f(x;\\alpha,\\beta) &= \\dfrac{x^{\\alpha-1}(1-x)^{\\beta-1}}{\\int_0^1 u^{\\alpha-1}(1-u)^{\\beta-1} du} \\\\\n",
    "        & = \\dfrac{\\Gamma(\\alpha+\\beta)}{\\Gamma(\\alpha)\\Gamma(\\beta)}x^{\\alpha-1}(1-x)^{\\beta-1} \\\\\n",
    "        & = \\dfrac{1}{B(\\alpha, \\beta)}x^{\\alpha-1}(1-x)^{\\beta-1}\n",
    "    \\end{split}\n",
    "\\end{equation}\n",
    "$\\Gamma$ and $B$ are gamma and beta function respectively.\n",
    "\n",
    "Average and variance are,\n",
    "\\begin{equation}\n",
    "    \\begin{split}\n",
    "        \\bar{X} &= \\dfrac{\\alpha}{\\alpha+\\beta} \\\\\n",
    "        \\bar{X\\prime\\prime^2} &= \\dfrac{\\alpha\\beta}{(\\alpha+\\beta)^2(\\alpha+\\beta+1)} \n",
    "    \\end{split}\n",
    "\\end{equation}\n",
    "With the mean and variance,\n",
    "\\begin{equation}\n",
    "    \\begin{split}\n",
    "        \\alpha & = \\bar{X}\\left(\\dfrac{1}{\\eta_X}-1\\right) \\\\\n",
    "        \\beta & = \\left(1-\\bar{X}\\right)\\left(\\dfrac{1}{\\eta_X}-1\\right)\n",
    "    \\end{split}\n",
    "\\end{equation}\n",
    "where\n",
    "\\begin{equation}\n",
    "    \\eta_X = \\dfrac{\\bar{X\\prime\\prime^2}}{\\bar{X}\\left(1-\\bar{X}\\right)}\n",
    "\\end{equation}"
   ]
  },
  {
   "cell_type": "code",
   "execution_count": 1,
   "metadata": {},
   "outputs": [],
   "source": [
    "import sys\n",
    "import numpy as np\n",
    "import matplotlib.pyplot as plt\n",
    "import numpy.polynomial.polynomial as P\n",
    "from scipy.integrate import simps\n",
    "from scipy.stats import beta\n",
    "from scipy.interpolate import interp1d\n",
    "import scipy as sp"
   ]
  },
  {
   "cell_type": "code",
   "execution_count": 2,
   "metadata": {},
   "outputs": [],
   "source": [
    "def beta_coef(ave, var):\n",
    "    \"\"\"Obtain the coefficients for beta distribution with average and variance\"\"\"\n",
    "    a = ave*(1./var-1.)\n",
    "    b = (1.-ave)*(1./var-1.)\n",
    "    return a, b"
   ]
  },
  {
   "cell_type": "code",
   "execution_count": 3,
   "metadata": {},
   "outputs": [],
   "source": [
    "# Numerical Integration"
   ]
  },
  {
   "cell_type": "code",
   "execution_count": 4,
   "metadata": {},
   "outputs": [],
   "source": [
    "def beta_integration_direct(f, x, a, b, fit='cubic'):\n",
    "    \"\"\"Integrate over the given sample, intepolate pdf at the boundary\"\"\"\n",
    "    # f(x): function value\n",
    "    # x: axis points\n",
    "    # a: alpha for the beta distribution\n",
    "    # b: beta for the beta distribution\n",
    "    # fit: fitting formula\n",
    "    \n",
    "    rv = beta(a, b)\n",
    "    pdf = rv.pdf(x)\n",
    "    \n",
    "    y = interp1d(x[1:-1], pdf[1:-1],\n",
    "                 kind=fit,\n",
    "                 fill_value='extrapolate'\n",
    "                )\n",
    "    \n",
    "    if a < 1. :\n",
    "        pdf[0] = y(0.) if y(0.) > 0. else 0.\n",
    "    if b < 1. :\n",
    "        pdf[-1] = y(1.) if y(1.) > 0. else 0.\n",
    "        \n",
    "    return simps(f*pdf, x)"
   ]
  },
  {
   "cell_type": "code",
   "execution_count": 5,
   "metadata": {},
   "outputs": [],
   "source": [
    "def beta_integration_log(f, x, a, b, fit='cubic', epsilon=1.e-9, n_ext=100):\n",
    "    \"\"\"Integrate over the given sample, log spaced intepolation of function and pdf towards the boundary\"\"\"\n",
    "    \n",
    "    f_interp = interp1d(f, x,\n",
    "                        kind = fit,\n",
    "                        fill_value = 'extrapolate'\n",
    "                       )\n",
    "    \n",
    "    if a < 1.:\n",
    "        x_ext = np.logspace(np.log10(epsilon),\n",
    "                            np.log10(x[1]), \n",
    "                            num=n_ext\n",
    "                           )\n",
    "        x_ext = np.insert(x_ext, 0, 0.)\n",
    "        f_ext = f_interp(x_ext)\n",
    "        \n",
    "        x = np.hstack((x_ext, x[2:]))\n",
    "        f = np.hstack((f_ext, f[2:]))\n",
    "    \n",
    "    if b < 1.:\n",
    "        x_ext = np.logspace(np.log10(epsilon), \n",
    "                            np.log10(1.-x[-2]), \n",
    "                            num=n_ext\n",
    "                           )\n",
    "        x_ext = np.flip( 1. - np.insert(x_ext, 0, 0.) )\n",
    "        f_ext = f_interp(x_ext)\n",
    "        \n",
    "        x = np.hstack((x[:-2], x_ext))\n",
    "        f = np.hstack((f[:-2], f_ext))\n",
    "    \n",
    "    rv = beta(a, b)\n",
    "    pdf = rv.pdf(x)\n",
    "    \n",
    "    y = interp1d(x[1:-1], pdf[1:-1],\n",
    "                 kind=fit,\n",
    "                 fill_value='extrapolate'\n",
    "                )\n",
    "    \n",
    "    if a < 1. :\n",
    "        pdf[0] = y(0.) if y(0.) > 0. else 0.\n",
    "    if b < 1. :\n",
    "        pdf[-1] = y(1.) if y(1.) > 0. else 0.\n",
    "        \n",
    "    return simps(f*pdf, x)"
   ]
  },
  {
   "cell_type": "code",
   "execution_count": 6,
   "metadata": {},
   "outputs": [],
   "source": [
    "def beta_integration_linear(f, x, a, b, fit='cubic', n_ext=100):\n",
    "    \"\"\"Integrate over the given sample, linear spaced intepolation of function and pdf towards the boundary\"\"\"\n",
    "    \n",
    "    f_interp = interp1d(f, x,\n",
    "                        kind = fit,\n",
    "                        fill_value = 'extrapolate'\n",
    "                       )\n",
    "    \n",
    "    if a < 1.:\n",
    "        x_ext = np.linspace(0., x[1], num=n_ext)\n",
    "        f_ext = f_interp(x_ext)\n",
    "        \n",
    "        x = np.hstack((x_ext, x[2:]))\n",
    "        f = np.hstack((f_ext, f[2:]))\n",
    "    \n",
    "    if b < 1.:\n",
    "        x_ext = np.linspace(x[-2], 1., num=n_ext)\n",
    "        f_ext = f_interp(x_ext)\n",
    "        \n",
    "        x = np.hstack((x[:-2], x_ext))\n",
    "        f = np.hstack((f[:-2], f_ext))\n",
    "    \n",
    "    rv = beta(a, b)\n",
    "    pdf = rv.pdf(x)\n",
    "    \n",
    "    y = interp1d(x[1:-1], pdf[1:-1],\n",
    "                 kind=fit,\n",
    "                 fill_value='extrapolate'\n",
    "                )\n",
    "    \n",
    "    if a < 1. :\n",
    "        pdf[0] = y(0.) if y(0.) > 0. else 0.\n",
    "    if b < 1. :\n",
    "        pdf[-1] = y(1.) if y(1.) > 0. else 0.\n",
    "        \n",
    "    return simps(f*pdf, x)"
   ]
  },
  {
   "cell_type": "markdown",
   "metadata": {},
   "source": [
    "# Analytical integration of the beta distribution\n",
    "For the polynomial function\n",
    "\\begin{equation}\n",
    "    \\phi(x) = \\sum_{i=0}^n c_i x^i,\n",
    "\\end{equation}\n",
    "integration with the beta distribution\n",
    "\\begin{equation}\n",
    "    \\begin{split}\n",
    "        \\int_{x_1}^{x_2} \\phi(x) f(x;\\alpha, \\beta) dx &= \\int_{x_1}^{x_2} \\sum_{i=0}^n c_i x^i f(x;\\alpha, \\beta) dx \\\\\n",
    "        &= \\sum_{i=0}^n c_i\\dfrac{B(\\alpha+i,\\beta)}{B(\\alpha,\\beta)}\\int_{x_1}^{x_2} f(x;\\alpha+i, \\beta) dx\n",
    "    \\end{split}\n",
    "\\end{equation}"
   ]
  },
  {
   "cell_type": "code",
   "execution_count": 7,
   "metadata": {},
   "outputs": [],
   "source": [
    "def beta_integration_analytic(f, x, a, b):\n",
    "    \n",
    "    rv0 = beta(a, b)\n",
    "    cdf0 = rv0.cdf(x)\n",
    "    B0 = sp.special.beta(a, b)\n",
    "    \n",
    "    rv1 = beta(a+1., b)\n",
    "    cdf1 = rv1.cdf(x)\n",
    "    B1 = sp.special.beta(a+1, b)\n",
    "    \n",
    "    c0 = np.zeros(x.size)\n",
    "    c1 = np.zeros(x.size)\n",
    "    \n",
    "    for i in range(x.size-1):\n",
    "        c = P.polyfit(x[i:i+2], f[i:i+2], 1)\n",
    "        \n",
    "        c0[i] -= c[0]\n",
    "        c0[i+1] += c[0]\n",
    "        \n",
    "        c1[i] -= c[1]\n",
    "        c1[i+1] += c[1]\n",
    "        \n",
    "    c1 *= B1/B0\n",
    "    \n",
    "    return np.sum(c0*cdf0+c1*cdf1)"
   ]
  },
  {
   "cell_type": "code",
   "execution_count": 8,
   "metadata": {},
   "outputs": [],
   "source": [
    "def delta_integration(f, x, x_ave):\n",
    "    y = interp1d(x, f, kind='cubic')\n",
    "    return y(x_ave)"
   ]
  },
  {
   "cell_type": "code",
   "execution_count": 9,
   "metadata": {},
   "outputs": [],
   "source": [
    "def bimodal_integration(f, x_ave):\n",
    "    return f[0]*(1.-x_ave)+f[-1]*x_ave"
   ]
  },
  {
   "cell_type": "code",
   "execution_count": 10,
   "metadata": {},
   "outputs": [],
   "source": [
    "def beta_integration(f, x, x_ave, x_nvar, method='analytic'):\n",
    "    \n",
    "    epsilon = 1.e-9\n",
    "    \n",
    "    if x_ave < epsilon:\n",
    "        return f[0]\n",
    "    elif x_ave > 1.-epsilon:\n",
    "        return f[-1]\n",
    "    elif x_nvar < epsilon:\n",
    "        return delta_integration(f, x, x_ave)\n",
    "    elif x_nvar > 1.-epsilon:\n",
    "        return bimodal_integration(f, x_ave)\n",
    "    else:\n",
    "        a, b = beta_coef(x_ave, x_nvar)\n",
    "        #return beta_integration_analytic(f, x, a, b)\n",
    "        \n",
    "        if method == 'analytic' :\n",
    "            return beta_integration_analytic(f, x, a, b)\n",
    "        elif method == 'log' :\n",
    "            return beta_integration_log(v, v, a, b)\n",
    "        elif method == 'linear' :\n",
    "            return beta_integration_linear(v, v, a, b)\n",
    "        else :\n",
    "            return beta_integration_direct(v, v, a, b)"
   ]
  },
  {
   "cell_type": "code",
   "execution_count": 11,
   "metadata": {},
   "outputs": [],
   "source": [
    "# load flamelet solution\n",
    "flamelet = np.genfromtxt('Table_1.csv', delimiter=',', names=True)"
   ]
  },
  {
   "cell_type": "code",
   "execution_count": 12,
   "metadata": {},
   "outputs": [],
   "source": [
    "methods = ['direct', 'log', 'linear', 'analytic']\n",
    "ls = ['g:', 'b-.', 'c:', 'r--']\n",
    "varName = 'Z'\n",
    "v = flamelet[varName]\n",
    "npts = 1000\n",
    "\n",
    "data = np.zeros((npts, len(methods)))"
   ]
  },
  {
   "cell_type": "code",
   "execution_count": 14,
   "metadata": {},
   "outputs": [],
   "source": [
    "nvar = 0.8\n",
    "for i, ave in enumerate(np.linspace(0., 1., num=npts)):\n",
    "    for j, m in enumerate(methods):\n",
    "        data[i, j] = beta_integration(v, v, ave, nvar, method=m)"
   ]
  },
  {
   "cell_type": "code",
   "execution_count": 15,
   "metadata": {},
   "outputs": [
    {
     "data": {
      "image/png": "[encoded data removed]",
      "text/plain": [
       "<Figure size 432x288 with 1 Axes>"
      ]
     },
     "metadata": {
      "needs_background": "light"
     },
     "output_type": "display_data"
    }
   ],
   "source": [
    "plt.figure(0)\n",
    "for j, m in enumerate(methods):\n",
    "    plt.plot(np.linspace(0., 1., num=npts), data[:,j], ls[j], label=m, lw=1)\n",
    "plt.legend()"
   ]
  },
  {
   "cell_type": "code",
   "execution_count": 16,
   "metadata": {},
   "outputs": [],
   "source": [
    "ave = 0.1\n",
    "for i, nvar in enumerate(np.linspace(0., 1., num=npts)):\n",
    "    for j, m in enumerate(methods):\n",
    "        data[i, j] = beta_integration(v, v, ave, nvar, method=m)"
   ]
  },
  {
   "cell_type": "code",
   "execution_count": 17,
   "metadata": {},
   "outputs": [
    {
     "data": {
      "text/plain": [
       "<matplotlib.legend.Legend at 0x7f455247add8>"
      ]
     },
     "execution_count": 17,
     "metadata": {},
     "output_type": "execute_result"
    },
    {
     "data": {
      "image/png": "[encoded data removed]",
      "text/plain": [
       "<Figure size 432x288 with 1 Axes>"
      ]
     },
     "metadata": {
      "needs_background": "light"
     },
     "output_type": "display_data"
    }
   ],
   "source": [
    "plt.figure(1)\n",
    "for j, m in enumerate(methods):\n",
    "    plt.plot(np.linspace(0., 1., num=npts), data[:,j], ls[j], label=m, lw=1)\n",
    "plt.legend()"
   ]
  }
 ],
 "metadata": {
  "kernelspec": {
   "display_name": "Python 3",
   "language": "python",
   "name": "python3"
  },
  "language_info": {
   "codemirror_mode": {
    "name": "ipython",
    "version": 3
   },
   "file_extension": ".py",
   "mimetype": "text/x-python",
   "name": "python",
   "nbconvert_exporter": "python",
   "pygments_lexer": "ipython3",
   "version": "3.6.6"
  }
 },
 "nbformat": 4,
 "nbformat_minor": 2
}
